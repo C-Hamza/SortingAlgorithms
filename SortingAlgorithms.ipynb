{
 "cells": [
  {
   "cell_type": "markdown",
   "id": "0514dfac-43eb-455b-8e4b-62f21353f6de",
   "metadata": {},
   "source": [
    "# Bubble Sort"
   ]
  },
  {
   "cell_type": "code",
   "execution_count": 7,
   "id": "e8f46d51-3667-4507-ac00-62946b9844f1",
   "metadata": {},
   "outputs": [
    {
     "name": "stdout",
     "output_type": "stream",
     "text": [
      "Sorted array: [11, 12, 22, 25, 34, 64, 90]\n"
     ]
    }
   ],
   "source": [
    "def bubble_sort(arr):\n",
    "    \"\"\"\n",
    "    Bubble Sort Algorithm:\n",
    "    1. Repeatedly swap adjacent elements if they are in the wrong order.\n",
    "    2. The largest element bubbles up to the end of the list.\n",
    "    3. Continue until the entire list is sorted.\n",
    "    \"\"\"\n",
    "    n = len(arr)\n",
    "    for i in range(n):\n",
    "        for j in range(0, n - i - 1):\n",
    "            if arr[j] > arr[j + 1]:\n",
    "                arr[j], arr[j + 1] = arr[j + 1], arr[j]\n",
    "\n",
    "# Example Usage\n",
    "arr = [64, 34, 25, 12, 22, 11, 90]\n",
    "bubble_sort(arr)\n",
    "print(\"Sorted array:\", arr)"
   ]
  },
  {
   "cell_type": "markdown",
   "id": "accf8346-f56b-4c8e-8947-7e04c188f5d2",
   "metadata": {},
   "source": [
    "# Insertion Sort"
   ]
  },
  {
   "cell_type": "code",
   "execution_count": 9,
   "id": "b5c6fa74-7882-4548-be85-d433deeb6b51",
   "metadata": {},
   "outputs": [
    {
     "name": "stdout",
     "output_type": "stream",
     "text": [
      "Sorted array: [11, 12, 22, 25, 34, 64, 90]\n"
     ]
    }
   ],
   "source": [
    "def insertion_sort(arr):\n",
    "    \"\"\"\n",
    "    Insertion Sort Algorithm:\n",
    "    1. Assume the first element is sorted.\n",
    "    2. Pick the next element and insert it into the sorted portion by shifting elements.\n",
    "    3. Repeat until the entire list is sorted.\n",
    "    \"\"\"\n",
    "    for i in range(1, len(arr)):\n",
    "        key = arr[i]\n",
    "        j = i - 1\n",
    "        while j >= 0 and key < arr[j]:\n",
    "            arr[j + 1] = arr[j]\n",
    "            j -= 1\n",
    "        arr[j + 1] = key\n",
    "\n",
    "# Example Usage\n",
    "arr = [64, 34, 25, 12, 22, 11, 90]\n",
    "insertion_sort(arr)\n",
    "print(\"Sorted array:\", arr)\n"
   ]
  },
  {
   "cell_type": "markdown",
   "id": "508a4f16-72c1-41c1-99a5-f862d609efcf",
   "metadata": {},
   "source": [
    "# Selection Sort"
   ]
  },
  {
   "cell_type": "code",
   "execution_count": 11,
   "id": "3dc0233a-9ae5-4d5b-a87b-b7727eb60d46",
   "metadata": {},
   "outputs": [
    {
     "name": "stdout",
     "output_type": "stream",
     "text": [
      "Sorted array: [11, 12, 22, 25, 34, 64, 90]\n"
     ]
    }
   ],
   "source": [
    "def selection_sort(arr):\n",
    "    \"\"\"\n",
    "    Selection Sort Algorithm:\n",
    "    1. Find the minimum element in the unsorted portion.\n",
    "    2. Swap it with the first unsorted element.\n",
    "    3. Move the boundary of the sorted portion one step forward.\n",
    "    4. Repeat until the entire list is sorted.\n",
    "    \"\"\"\n",
    "    n = len(arr)\n",
    "    for i in range(n):\n",
    "        min_idx = i\n",
    "        for j in range(i + 1, n):\n",
    "            if arr[j] < arr[min_idx]:\n",
    "                min_idx = j\n",
    "        arr[i], arr[min_idx] = arr[min_idx], arr[i]\n",
    "\n",
    "# Example Usage\n",
    "arr = [64, 34, 25, 12, 22, 11, 90]\n",
    "selection_sort(arr)\n",
    "print(\"Sorted array:\", arr)\n"
   ]
  },
  {
   "cell_type": "markdown",
   "id": "7c325d0f-100d-40c5-8d24-68615d6b5ae1",
   "metadata": {},
   "source": [
    "# Radix Sort"
   ]
  },
  {
   "cell_type": "code",
   "execution_count": 13,
   "id": "8711a052-21c2-4794-86c1-1997d5b0867c",
   "metadata": {},
   "outputs": [
    {
     "name": "stdout",
     "output_type": "stream",
     "text": [
      "Sorted array: [2, 24, 45, 66, 75, 90, 170, 802]\n"
     ]
    }
   ],
   "source": [
    "def counting_sort_radix(arr, exp):\n",
    "    n = len(arr)\n",
    "    output = [0] * n\n",
    "    count = [0] * 10\n",
    "    \n",
    "    for i in arr:\n",
    "        index = (i // exp) % 10\n",
    "        count[index] += 1\n",
    "    \n",
    "    for i in range(1, 10):\n",
    "        count[i] += count[i - 1]\n",
    "    \n",
    "    i = n - 1\n",
    "    while i >= 0:\n",
    "        index = (arr[i] // exp) % 10\n",
    "        output[count[index] - 1] = arr[i]\n",
    "        count[index] -= 1\n",
    "        i -= 1\n",
    "    \n",
    "    for i in range(n):\n",
    "        arr[i] = output[i]\n",
    "\n",
    "def radix_sort(arr):\n",
    "    \"\"\"\n",
    "    Radix Sort Algorithm:\n",
    "    1. Sort elements based on each digit, from least significant to most significant.\n",
    "    2. Use counting sort as a subroutine to sort digits at each position.\n",
    "    3. Continue until the largest number is fully processed.\n",
    "    \"\"\"\n",
    "    max_val = max(arr)\n",
    "    exp = 1\n",
    "    while max_val // exp > 0:\n",
    "        counting_sort_radix(arr, exp)\n",
    "        exp *= 10\n",
    "\n",
    "# Example Usage\n",
    "arr = [170, 45, 75, 90, 802, 24, 2, 66]\n",
    "radix_sort(arr)\n",
    "print(\"Sorted array:\", arr)\n"
   ]
  },
  {
   "cell_type": "markdown",
   "id": "9d4d1fe2-fba5-45fe-aa19-32f08317b017",
   "metadata": {},
   "source": [
    "# Counting Sort"
   ]
  },
  {
   "cell_type": "code",
   "execution_count": 16,
   "id": "d0ef1ace-c004-44b5-9a9f-1c4220f39c78",
   "metadata": {},
   "outputs": [
    {
     "name": "stdout",
     "output_type": "stream",
     "text": [
      "Sorted array: [1, 2, 2, 3, 3, 4, 8]\n"
     ]
    }
   ],
   "source": [
    "def counting_sort(arr):\n",
    "    \"\"\"\n",
    "    Counting Sort Algorithm:\n",
    "    1. Find the maximum value in the array.\n",
    "    2. Create a count array to store the frequency of each element.\n",
    "    3. Modify the count array to store cumulative counts.\n",
    "    4. Use the count array to place elements in the correct position.\n",
    "    \"\"\"\n",
    "    if len(arr) == 0:\n",
    "        return arr\n",
    "    \n",
    "    max_val = max(arr)\n",
    "    count = [0] * (max_val + 1)\n",
    "    \n",
    "    for num in arr:\n",
    "        count[num] += 1\n",
    "    \n",
    "    sorted_arr = []\n",
    "    for i in range(len(count)):\n",
    "        sorted_arr.extend([i] * count[i])\n",
    "    \n",
    "    arr[:] = sorted_arr\n",
    "\n",
    "# Example Usage\n",
    "arr = [4, 2, 2, 8, 3, 3, 1]\n",
    "counting_sort(arr)\n",
    "print(\"Sorted array:\", arr)"
   ]
  },
  {
   "cell_type": "markdown",
   "id": "80104fe8-4937-484d-a5f2-a2151b57b2a9",
   "metadata": {},
   "source": [
    "#"
   ]
  },
  {
   "cell_type": "markdown",
   "id": "ce2a552d-4bca-4fa8-856a-53a18b7d822f",
   "metadata": {},
   "source": []
  }
 ],
 "metadata": {
  "kernelspec": {
   "display_name": "Python [conda env:base] *",
   "language": "python",
   "name": "conda-base-py"
  },
  "language_info": {
   "codemirror_mode": {
    "name": "ipython",
    "version": 3
   },
   "file_extension": ".py",
   "mimetype": "text/x-python",
   "name": "python",
   "nbconvert_exporter": "python",
   "pygments_lexer": "ipython3",
   "version": "3.12.7"
  }
 },
 "nbformat": 4,
 "nbformat_minor": 5
}
